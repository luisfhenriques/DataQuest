{
 "cells": [
  {
   "cell_type": "markdown",
   "id": "familiar-incident",
   "metadata": {},
   "source": [
    "For this project, we'll pretend we're working as data analysts for a company that builds Android and iOS mobile apps. We make our apps available on Google Play and in the App Store.\n",
    "\n",
    "We only build apps that are free to download and install, and our main source of revenue consists of in-app ads. This means that the number of users of our apps determines our revenue for any given app — the more users who see and engage with the ads, the better. Our goal for this project is to analyze data to help our developers understand what type of apps are likely to attract more users."
   ]
  },
  {
   "cell_type": "markdown",
   "id": "binding-worcester",
   "metadata": {},
   "source": [
    "# Profitable Apps for Apple Store and Google Play Store Market"
   ]
  },
  {
   "cell_type": "markdown",
   "id": "worldwide-figure",
   "metadata": {},
   "source": [
    "Our objective is to determine what kind of applications are profitable for Apple Store and Google Play Store.\n",
    "\n",
    "At the company we only build apps that are free to download and install, and our main source of revenue consists on in-apps ads. Our goal for this project is to analyze data to help our developers understand what type of apps are likely to attract more users."
   ]
  },
  {
   "cell_type": "markdown",
   "id": "imperial-exclusion",
   "metadata": {},
   "source": [
    "## 1. Collect and Explore the Data"
   ]
  },
  {
   "cell_type": "markdown",
   "id": "infectious-broadcast",
   "metadata": {},
   "source": [
    "First, we need to collect the data from the respective sources.\n",
    "\n",
    "1. [Apple Store Apps](https://www.kaggle.com/ramamet4/app-store-apple-data-set-10k-apps)\n",
    "2. [Google Play Store Apps](https://www.kaggle.com/lava18/google-play-store-apps/version/6)"
   ]
  },
  {
   "cell_type": "code",
   "execution_count": 1,
   "id": "previous-inspiration",
   "metadata": {},
   "outputs": [],
   "source": [
    "from csv import reader\n",
    "\n",
    "# Apple Store Dataset\n",
    "data_file = open('AppleStore.csv', encoding='utf8')\n",
    "read_file = reader(data_file)\n",
    "apple_data = list(read_file)\n",
    "apple_header = apple_data[0]\n",
    "apple_data = apple_data[1:]\n",
    "data_file.close()\n",
    "\n",
    "# Google Play Store Dataset\n",
    "data_file = open('googleplaystore.csv', encoding='utf8')\n",
    "read_file = reader(data_file)\n",
    "google_data = list(read_file)\n",
    "google_header = google_data[0]\n",
    "google_data = google_data[1:]\n",
    "data_file.close()"
   ]
  },
  {
   "cell_type": "markdown",
   "id": "useful-network",
   "metadata": {},
   "source": [
    "Next we will create a function called `explore_data()` to be easier to inspect our dataset. It's possible to select how many rows we want to see."
   ]
  },
  {
   "cell_type": "code",
   "execution_count": 2,
   "id": "medieval-sender",
   "metadata": {},
   "outputs": [],
   "source": [
    "def explore_data(dataset: list, start: int, end: int, rows_and_columns = False):\n",
    "    data_sliced = dataset[start:end]\n",
    "    for row in data_sliced:\n",
    "        print(row)\n",
    "        print('\\n')\n",
    "    if rows_and_columns:\n",
    "        print('Number of columns: ',len(dataset[0]))\n",
    "        print('Number of rows: ',len(dataset))"
   ]
  },
  {
   "cell_type": "markdown",
   "id": "wicked-relaxation",
   "metadata": {},
   "source": [
    "Let's check a preview of our datasets:"
   ]
  },
  {
   "cell_type": "code",
   "execution_count": 3,
   "id": "mechanical-smoke",
   "metadata": {},
   "outputs": [
    {
     "name": "stdout",
     "output_type": "stream",
     "text": [
      "-------------------------------------------------------------------------\n",
      "------------------------------Apple Dataset------------------------------\n",
      "-------------------------------------------------------------------------\n",
      "['', 'id', 'track_name', 'size_bytes', 'currency', 'price', 'rating_count_tot', 'rating_count_ver', 'user_rating', 'user_rating_ver', 'ver', 'cont_rating', 'prime_genre', 'sup_devices.num', 'ipadSc_urls.num', 'lang.num', 'vpp_lic']\n",
      "\n",
      "\n",
      "['1', '281656475', 'PAC-MAN Premium', '100788224', 'USD', '3.99', '21292', '26', '4', '4.5', '6.3.5', '4+', 'Games', '38', '5', '10', '1']\n",
      "\n",
      "\n",
      "['2', '281796108', 'Evernote - stay organized', '158578688', 'USD', '0', '161065', '26', '4', '3.5', '8.2.2', '4+', 'Productivity', '37', '5', '23', '1']\n",
      "\n",
      "\n",
      "['3', '281940292', 'WeatherBug - Local Weather, Radar, Maps, Alerts', '100524032', 'USD', '0', '188583', '2822', '3.5', '4.5', '5.0.0', '4+', 'Weather', '37', '5', '3', '1']\n",
      "\n",
      "\n",
      "['4', '282614216', 'eBay: Best App to Buy, Sell, Save! Online Shopping', '128512000', 'USD', '0', '262241', '649', '4', '4.5', '5.10.0', '12+', 'Shopping', '37', '5', '9', '1']\n",
      "\n",
      "\n",
      "Number of columns:  17\n",
      "Number of rows:  7197\n",
      "\n",
      "\n",
      "--------------------------------------------------------------------------\n",
      "------------------------------Google Dataset------------------------------\n",
      "--------------------------------------------------------------------------\n",
      "['App', 'Category', 'Rating', 'Reviews', 'Size', 'Installs', 'Type', 'Price', 'Content Rating', 'Genres', 'Last Updated', 'Current Ver', 'Android Ver']\n",
      "\n",
      "\n",
      "['Photo Editor & Candy Camera & Grid & ScrapBook', 'ART_AND_DESIGN', '4.1', '159', '19M', '10,000+', 'Free', '0', 'Everyone', 'Art & Design', 'January 7, 2018', '1.0.0', '4.0.3 and up']\n",
      "\n",
      "\n",
      "['Coloring book moana', 'ART_AND_DESIGN', '3.9', '967', '14M', '500,000+', 'Free', '0', 'Everyone', 'Art & Design;Pretend Play', 'January 15, 2018', '2.0.0', '4.0.3 and up']\n",
      "\n",
      "\n",
      "['U Launcher Lite – FREE Live Cool Themes, Hide Apps', 'ART_AND_DESIGN', '4.7', '87510', '8.7M', '5,000,000+', 'Free', '0', 'Everyone', 'Art & Design', 'August 1, 2018', '1.2.4', '4.0.3 and up']\n",
      "\n",
      "\n",
      "['Sketch - Draw & Paint', 'ART_AND_DESIGN', '4.5', '215644', '25M', '50,000,000+', 'Free', '0', 'Teen', 'Art & Design', 'June 8, 2018', 'Varies with device', '4.2 and up']\n",
      "\n",
      "\n",
      "Number of columns:  13\n",
      "Number of rows:  10841\n"
     ]
    }
   ],
   "source": [
    "# Apple Dataset\n",
    "print('-------------------------------------------------------------------------')\n",
    "print('------------------------------Apple Dataset------------------------------')\n",
    "print('-------------------------------------------------------------------------')\n",
    "print(apple_header)\n",
    "print('\\n')\n",
    "explore_data(apple_data,0,4,True)\n",
    "print('\\n')\n",
    "\n",
    "# Google Dataset\n",
    "print('--------------------------------------------------------------------------')\n",
    "print('------------------------------Google Dataset------------------------------')\n",
    "print('--------------------------------------------------------------------------')\n",
    "print(google_header)\n",
    "print('\\n')\n",
    "explore_data(google_data,0,4,True)"
   ]
  },
  {
   "cell_type": "markdown",
   "id": "shaped-inspection",
   "metadata": {},
   "source": [
    "Apple dataset has 17 columns and 7197 rows. The useful columns for our analysis could be `track_name` , `currency`, `price`, `rating_count_tot`, `rating_count_ver` and `prime_genre`. You can find a best columns description [here](https://www.kaggle.com/ramamet4/app-store-apple-data-set-10k-apps).\n",
    "\n",
    "Google dataset has 13 columns and 10841. The useful columns for our analysis could be `App`, `Category`, `Rating`, `Installs`, `Type`, `Price` and `Genres`."
   ]
  },
  {
   "cell_type": "markdown",
   "id": "caring-buying",
   "metadata": {},
   "source": [
    "## 2. Data Cleaning"
   ]
  },
  {
   "cell_type": "markdown",
   "id": "communist-celebrity",
   "metadata": {},
   "source": [
    "### 2.1 Deleting wrong data"
   ]
  },
  {
   "cell_type": "markdown",
   "id": "deluxe-arcade",
   "metadata": {},
   "source": [
    "The Google Play dataset has a dedicated discussion section, and we can see that one of the discussions describes an error in row 10472. Let's compare with the header and another row."
   ]
  },
  {
   "cell_type": "code",
   "execution_count": 4,
   "id": "accurate-target",
   "metadata": {},
   "outputs": [
    {
     "name": "stdout",
     "output_type": "stream",
     "text": [
      "['App', 'Category', 'Rating', 'Reviews', 'Size', 'Installs', 'Type', 'Price', 'Content Rating', 'Genres', 'Last Updated', 'Current Ver', 'Android Ver']\n",
      "['U Launcher Lite – FREE Live Cool Themes, Hide Apps', 'ART_AND_DESIGN', '4.7', '87510', '8.7M', '5,000,000+', 'Free', '0', 'Everyone', 'Art & Design', 'August 1, 2018', '1.2.4', '4.0.3 and up']\n",
      "['Life Made WI-Fi Touchscreen Photo Frame', '1.9', '19', '3.0M', '1,000+', 'Free', '0', 'Everyone', '', 'February 11, 2018', '1.0.19', '4.0 and up']\n"
     ]
    }
   ],
   "source": [
    "print(google_header) # Google dataset header\n",
    "print(google_data[2]) # App info\n",
    "print(google_data[10472]) # Row with error"
   ]
  },
  {
   "cell_type": "markdown",
   "id": "clinical-posting",
   "metadata": {},
   "source": [
    "The row with the error referes to the app \"Life Made WI-Fi Touchscreen Photo Frame\" and we can verify in the column *Category* is **1.9**. This means that the right value for *Category* is missing. We can also check the row length and compare with the header."
   ]
  },
  {
   "cell_type": "code",
   "execution_count": 5,
   "id": "weekly-administrator",
   "metadata": {},
   "outputs": [
    {
     "name": "stdout",
     "output_type": "stream",
     "text": [
      "Google header lenght:  13\n",
      "Google row with error length:  12\n"
     ]
    }
   ],
   "source": [
    "print(\"Google header lenght: \", len(google_header))\n",
    "print(\"Google row with error length: \", len(google_data[10472]))"
   ]
  },
  {
   "cell_type": "markdown",
   "id": "premium-fortune",
   "metadata": {},
   "source": [
    "We can see that the row with error is shorter. It will be deleted."
   ]
  },
  {
   "cell_type": "code",
   "execution_count": 6,
   "id": "going-smile",
   "metadata": {},
   "outputs": [
    {
     "name": "stdout",
     "output_type": "stream",
     "text": [
      "Length before delete:  10841\n",
      "Length after delete:  10840\n"
     ]
    }
   ],
   "source": [
    "print(\"Length before delete: \", len(google_data))\n",
    "del google_data[10472]\n",
    "print(\"Length after delete: \", len(google_data))"
   ]
  },
  {
   "cell_type": "markdown",
   "id": "isolated-triple",
   "metadata": {},
   "source": [
    "### 2.2 Deleting Duplicates"
   ]
  },
  {
   "cell_type": "markdown",
   "id": "consolidated-reference",
   "metadata": {},
   "source": [
    "According to the [discussion](https://www.kaggle.com/lava18/google-play-store-apps/discussion) it's possible to find out that there are some duplicate apps in the Google Play dataset. Duplicate apps should be deleted from the dataset."
   ]
  },
  {
   "cell_type": "markdown",
   "id": "published-store",
   "metadata": {},
   "source": [
    "For instance, let's try to find out how many Instagram apps can we find in the dataset."
   ]
  },
  {
   "cell_type": "code",
   "execution_count": 7,
   "id": "proprietary-holocaust",
   "metadata": {},
   "outputs": [
    {
     "name": "stdout",
     "output_type": "stream",
     "text": [
      "The are 4 apps with the name Instagram.\n"
     ]
    }
   ],
   "source": [
    "app_name = 'Instagram'\n",
    "app_duplicate = []\n",
    "for row in google_data:\n",
    "    if row[0] == app_name:\n",
    "        app_duplicate.append(row)\n",
    "\n",
    "print('The are {} apps with the name {}.'.format(len(app_duplicate),app_name))"
   ]
  },
  {
   "cell_type": "markdown",
   "id": "extra-multimedia",
   "metadata": {},
   "source": [
    "Let's verify how many duplicate apps there are in our dataset."
   ]
  },
  {
   "cell_type": "code",
   "execution_count": 8,
   "id": "approved-paris",
   "metadata": {},
   "outputs": [
    {
     "name": "stdout",
     "output_type": "stream",
     "text": [
      "Total of unique apps:  9659\n",
      "Total of non-unique apps:  1181\n"
     ]
    }
   ],
   "source": [
    "unique_apps = []\n",
    "non_unique_apps = []\n",
    "\n",
    "for row in google_data:\n",
    "    name = row[0]\n",
    "    if name in unique_apps:\n",
    "        non_unique_apps.append(name)\n",
    "    else:\n",
    "        unique_apps.append(name)\n",
    "\n",
    "print('Total of unique apps: ',len(unique_apps))\n",
    "print('Total of non-unique apps: ',len(non_unique_apps))"
   ]
  },
  {
   "cell_type": "markdown",
   "id": "acknowledged-workshop",
   "metadata": {},
   "source": [
    "From our previous example with the app Instagram, let's inspect if there is any difference at each entry."
   ]
  },
  {
   "cell_type": "code",
   "execution_count": 9,
   "id": "greater-board",
   "metadata": {},
   "outputs": [
    {
     "name": "stdout",
     "output_type": "stream",
     "text": [
      "['App', 'Category', 'Rating', 'Reviews', 'Size', 'Installs', 'Type', 'Price', 'Content Rating', 'Genres', 'Last Updated', 'Current Ver', 'Android Ver']\n",
      "\n",
      "\n",
      "['Instagram', 'SOCIAL', '4.5', '66577313', 'Varies with device', '1,000,000,000+', 'Free', '0', 'Teen', 'Social', 'July 31, 2018', 'Varies with device', 'Varies with device']\n",
      "\n",
      "\n",
      "['Instagram', 'SOCIAL', '4.5', '66577446', 'Varies with device', '1,000,000,000+', 'Free', '0', 'Teen', 'Social', 'July 31, 2018', 'Varies with device', 'Varies with device']\n",
      "\n",
      "\n",
      "['Instagram', 'SOCIAL', '4.5', '66577313', 'Varies with device', '1,000,000,000+', 'Free', '0', 'Teen', 'Social', 'July 31, 2018', 'Varies with device', 'Varies with device']\n",
      "\n",
      "\n",
      "['Instagram', 'SOCIAL', '4.5', '66509917', 'Varies with device', '1,000,000,000+', 'Free', '0', 'Teen', 'Social', 'July 31, 2018', 'Varies with device', 'Varies with device']\n",
      "\n",
      "\n"
     ]
    }
   ],
   "source": [
    "print(google_header)\n",
    "print('\\n')\n",
    "explore_data(app_duplicate,0,len(app_duplicate),False)"
   ]
  },
  {
   "cell_type": "markdown",
   "id": "instant-african",
   "metadata": {},
   "source": [
    "We can identify that the 'Rating' column (nr.4) has a different number of reviews for each entry. We can determine the more reviews the app has, more recently the data is."
   ]
  },
  {
   "cell_type": "markdown",
   "id": "hairy-window",
   "metadata": {},
   "source": [
    "In order to have the more recent application in our dataset without any duplicate, a couple of steps will be executed:\n",
    "\n",
    "- Create a empty dictionary\n",
    "- Iterate over the Google Play dataset and save in the dictionary the app with the highest number of reviews for each duplicate app\n",
    "- Create a new list of apps only with unique apps\n"
   ]
  },
  {
   "cell_type": "code",
   "execution_count": 10,
   "id": "living-advocate",
   "metadata": {},
   "outputs": [
    {
     "name": "stdout",
     "output_type": "stream",
     "text": [
      "9659\n",
      "['Instagram', 'SOCIAL', '4.5', 66577446.0, 'Varies with device', '1,000,000,000+', 'Free', '0', 'Teen', 'Social', 'July 31, 2018', 'Varies with device', 'Varies with device']\n"
     ]
    }
   ],
   "source": [
    "app_dict = {} #new dictionary\n",
    "\n",
    "#Iterate over Google Play dataset and save the app in the dictionary\n",
    "for row in google_data:\n",
    "    name = row[0]\n",
    "    row[3] = float(row[3])\n",
    "    nbr_reviews = row[3]\n",
    "    #print(nbr_reviews)\n",
    "    if name not in app_dict:\n",
    "        app_dict[name] = row\n",
    "    elif (name in app_dict) and (nbr_reviews > app_dict[name][3]):\n",
    "        app_dict[name] = row\n",
    "\n",
    "print(len(app_dict))\n",
    "print(app_dict['Instagram'])\n"
   ]
  },
  {
   "cell_type": "markdown",
   "id": "mathematical-imaging",
   "metadata": {},
   "source": [
    "Taking the Instagram app as an example let's confirm that the more recent app is in your dictionary and confirm that we only have unique apps."
   ]
  },
  {
   "cell_type": "code",
   "execution_count": 11,
   "id": "liked-childhood",
   "metadata": {},
   "outputs": [
    {
     "name": "stdout",
     "output_type": "stream",
     "text": [
      "['Instagram', 'SOCIAL', '4.5', 66577446.0, 'Varies with device', '1,000,000,000+', 'Free', '0', 'Teen', 'Social', 'July 31, 2018', 'Varies with device', 'Varies with device']\n",
      "Total apps with duplicates:  10840\n",
      "Total unique apps:  9659\n",
      "Total of duplicate apps:  1181\n",
      "Total apps after remove duplicates:  9659\n"
     ]
    }
   ],
   "source": [
    "print(app_dict['Instagram']) # Instagram app data\n",
    "print('Total apps with duplicates: ', len(google_data)) #Length orginal dataset\n",
    "print('Total unique apps: ',len(app_dict))\n",
    "print('Total of duplicate apps: ',len(non_unique_apps))\n",
    "print('Total apps after remove duplicates: ', str(len(google_data)-len(non_unique_apps)))"
   ]
  },
  {
   "cell_type": "markdown",
   "id": "creative-knight",
   "metadata": {},
   "source": [
    "Now let's create a new list based on your dictionary."
   ]
  },
  {
   "cell_type": "code",
   "execution_count": 12,
   "id": "parental-delight",
   "metadata": {},
   "outputs": [
    {
     "name": "stdout",
     "output_type": "stream",
     "text": [
      "['Photo Editor & Candy Camera & Grid & ScrapBook', 'ART_AND_DESIGN', '4.1', 159.0, '19M', '10,000+', 'Free', '0', 'Everyone', 'Art & Design', 'January 7, 2018', '1.0.0', '4.0.3 and up']\n",
      "\n",
      "\n",
      "['Coloring book moana', 'FAMILY', '3.9', 974.0, '14M', '500,000+', 'Free', '0', 'Everyone', 'Art & Design;Pretend Play', 'January 15, 2018', '2.0.0', '4.0.3 and up']\n",
      "\n",
      "\n",
      "['U Launcher Lite – FREE Live Cool Themes, Hide Apps', 'ART_AND_DESIGN', '4.7', 87510.0, '8.7M', '5,000,000+', 'Free', '0', 'Everyone', 'Art & Design', 'August 1, 2018', '1.2.4', '4.0.3 and up']\n",
      "\n",
      "\n",
      "Number of columns:  13\n",
      "Number of rows:  9659\n"
     ]
    }
   ],
   "source": [
    "android_apps = list(app_dict.values())\n",
    "explore_data(android_apps,0,3,True)"
   ]
  },
  {
   "cell_type": "markdown",
   "id": "covered-struggle",
   "metadata": {},
   "source": [
    "### 2.3 Deleting Non-English apps"
   ]
  },
  {
   "cell_type": "markdown",
   "id": "substantial-official",
   "metadata": {},
   "source": [
    "Since we only design apps for English-speaking audience we'll check if we have non-English app in our dataset. The only away to identify non-English apps in our datasets is by their respective name.\n",
    "\n",
    "According to the ASCII system, the numbers corresponding to the characters we commonly use in an English text are all in the range 0 to 127. Let's create a function that identifies if a character is non-English."
   ]
  },
  {
   "cell_type": "code",
   "execution_count": 13,
   "id": "comfortable-bermuda",
   "metadata": {},
   "outputs": [],
   "source": [
    "def english_app(name: str):\n",
    "    for char in name:\n",
    "        if ord(char) > 127:\n",
    "            return False\n",
    "    return True"
   ]
  },
  {
   "cell_type": "markdown",
   "id": "distant-industry",
   "metadata": {},
   "source": [
    "Let's try some examples."
   ]
  },
  {
   "cell_type": "code",
   "execution_count": 14,
   "id": "affiliated-criticism",
   "metadata": {},
   "outputs": [
    {
     "name": "stdout",
     "output_type": "stream",
     "text": [
      "True\n",
      "False\n",
      "False\n",
      "False\n",
      "\n",
      "\n",
      "8482\n",
      "128540\n"
     ]
    }
   ],
   "source": [
    "print(english_app('Instagram'))\n",
    "print(english_app('爱奇艺PPS -《欢乐颂2》电视剧热播'))\n",
    "print(english_app('Docs To Go™ Free Office Suite'))\n",
    "print(english_app('Instachat 😜'))\n",
    "print('\\n')\n",
    "print(ord('™'))\n",
    "print(ord('😜'))"
   ]
  },
  {
   "cell_type": "markdown",
   "id": "younger-chance",
   "metadata": {},
   "source": [
    "We can see that emojis and the Trademark symbol are not included of the range (0 - 127) for English text in the ASCII system. To include these cases in our datasets to be analyzed, we will considered a maximum of 3 characters that fall outside the ASCII range (0 - 127)."
   ]
  },
  {
   "cell_type": "code",
   "execution_count": 15,
   "id": "regular-genre",
   "metadata": {},
   "outputs": [
    {
     "name": "stdout",
     "output_type": "stream",
     "text": [
      "False\n",
      "True\n",
      "True\n"
     ]
    }
   ],
   "source": [
    "def english_app(name: str):\n",
    "    count = 0\n",
    "    for char in name:\n",
    "        if ord(char) > 127:\n",
    "            count += 1\n",
    "    if count > 3:\n",
    "        return False\n",
    "    return True\n",
    "\n",
    "print(english_app('爱奇艺PPS -《欢乐颂2》电视剧热播'))\n",
    "print(english_app('Docs To Go™ Free Office Suite'))\n",
    "print(english_app('Instachat 😜'))"
   ]
  },
  {
   "cell_type": "markdown",
   "id": "facial-thailand",
   "metadata": {},
   "source": [
    "Now let's filter all the non English apps over our datasets and and keep the only English apps."
   ]
  },
  {
   "cell_type": "code",
   "execution_count": 16,
   "id": "becoming-pharmacy",
   "metadata": {},
   "outputs": [],
   "source": [
    "english_android = []\n",
    "english_ios = []\n",
    "\n",
    "# For Android apps\n",
    "for row in android_apps:\n",
    "    name = row[0]\n",
    "    if english_app(name):\n",
    "        english_android.append(row)\n",
    "\n",
    "# For Apple apps\n",
    "for row in apple_data:\n",
    "    name = row[2]\n",
    "    if english_app(name):\n",
    "        english_ios.append(row)"
   ]
  },
  {
   "cell_type": "code",
   "execution_count": 17,
   "id": "sexual-rochester",
   "metadata": {},
   "outputs": [
    {
     "name": "stdout",
     "output_type": "stream",
     "text": [
      "Total English apps in Android:  9614\n",
      "Total English apps in iOS:  6183\n"
     ]
    }
   ],
   "source": [
    "print('Total English apps in Android: ', len(english_android))\n",
    "print('Total English apps in iOS: ', len(english_ios))"
   ]
  },
  {
   "cell_type": "markdown",
   "id": "nonprofit-button",
   "metadata": {},
   "source": [
    "We can verify the we have a total of **9614 Android** and **7197 iOS** English applications."
   ]
  },
  {
   "cell_type": "markdown",
   "id": "nutritional-housing",
   "metadata": {},
   "source": [
    "### 2.4 Filter Free Apps"
   ]
  },
  {
   "cell_type": "markdown",
   "id": "prospective-engineering",
   "metadata": {},
   "source": [
    "As we mentioned in the introduction, we only build apps that are free to download and install, and our main source of revenue consists of in-app ads. Our datasets contain both free and non-free apps; we'll need to isolate only the free apps for our analysis."
   ]
  },
  {
   "cell_type": "code",
   "execution_count": 18,
   "id": "joined-adolescent",
   "metadata": {},
   "outputs": [
    {
     "name": "stdout",
     "output_type": "stream",
     "text": [
      "['App', 'Category', 'Rating', 'Reviews', 'Size', 'Installs', 'Type', 'Price', 'Content Rating', 'Genres', 'Last Updated', 'Current Ver', 'Android Ver']\n",
      "['Photo Editor & Candy Camera & Grid & ScrapBook', 'ART_AND_DESIGN', '4.1', 159.0, '19M', '10,000+', 'Free', '0', 'Everyone', 'Art & Design', 'January 7, 2018', '1.0.0', '4.0.3 and up']\n",
      "\n",
      "\n",
      "['Coloring book moana', 'FAMILY', '3.9', 974.0, '14M', '500,000+', 'Free', '0', 'Everyone', 'Art & Design;Pretend Play', 'January 15, 2018', '2.0.0', '4.0.3 and up']\n",
      "\n",
      "\n",
      "\n",
      "\n",
      "['', 'id', 'track_name', 'size_bytes', 'currency', 'price', 'rating_count_tot', 'rating_count_ver', 'user_rating', 'user_rating_ver', 'ver', 'cont_rating', 'prime_genre', 'sup_devices.num', 'ipadSc_urls.num', 'lang.num', 'vpp_lic']\n",
      "['1', '281656475', 'PAC-MAN Premium', '100788224', 'USD', '3.99', '21292', '26', '4', '4.5', '6.3.5', '4+', 'Games', '38', '5', '10', '1']\n",
      "\n",
      "\n",
      "['2', '281796108', 'Evernote - stay organized', '158578688', 'USD', '0', '161065', '26', '4', '3.5', '8.2.2', '4+', 'Productivity', '37', '5', '23', '1']\n",
      "\n",
      "\n"
     ]
    }
   ],
   "source": [
    "print(google_header)\n",
    "explore_data(english_android, 0, 2,False)\n",
    "print('\\n')\n",
    "print(apple_header)\n",
    "explore_data(english_ios, 0, 2,False)\n"
   ]
  },
  {
   "cell_type": "markdown",
   "id": "faced-destination",
   "metadata": {},
   "source": [
    "On our Google Play Store dataset, we should filter the 'Price' column, index = 7, to get free apps (price = 0 dollars). In iOS store dataset we should filter the 'price' column to get free apps, index = 5."
   ]
  },
  {
   "cell_type": "code",
   "execution_count": 19,
   "id": "resistant-hearing",
   "metadata": {},
   "outputs": [],
   "source": [
    "free_android_apps = [] # Only free Android free apps\n",
    "free_ios_apps = [] # Only free iOS free apps\n",
    "\n",
    "# Filtering Android free apps\n",
    "for row in english_android:\n",
    "    price = row[7]\n",
    "    if price == '0':\n",
    "        free_android_apps.append(row)\n",
    "\n",
    "# Filtering iOS free Apps\n",
    "for row in english_ios:\n",
    "    price = float(row[5])\n",
    "    if price == 0.0:\n",
    "        free_ios_apps.append(row)"
   ]
  },
  {
   "cell_type": "code",
   "execution_count": 20,
   "id": "written-tower",
   "metadata": {},
   "outputs": [
    {
     "name": "stdout",
     "output_type": "stream",
     "text": [
      "Total Free apps in Android:  8864\n",
      "Total Free apps in iOS:  3222\n"
     ]
    }
   ],
   "source": [
    "print('Total Free apps in Android: ', len(free_android_apps))\n",
    "print('Total Free apps in iOS: ', len(free_ios_apps))"
   ]
  },
  {
   "cell_type": "markdown",
   "id": "congressional-subscription",
   "metadata": {},
   "source": [
    "## 3. Most Common Apps by Genre"
   ]
  },
  {
   "cell_type": "markdown",
   "id": "coupled-sigma",
   "metadata": {},
   "source": [
    "As we mentioned in the introduction, our aim is to determine the kinds of apps that are likely to attract more users because our revenue is highly influenced by the number of people using our apps.\n",
    "To minimize risks and overhead, our validation strategy for an app idea is comprised of three steps:\n",
    "- Build a minimal Android version of the app, and add it to Google Play.\n",
    "- If the app has a good response from users, we develop it further.\n",
    "- If the app is profitable after six months, we build an iOS version of the app and add it to the App Store.\n",
    "\n",
    "Because our end goal is to add the app on both Google Play and the App Store, we need to find app profiles that are successful on both markets. For instance, a profile that works well for both markets might be a productivity app that makes use of gamification.\n",
    "\n",
    "Let's begin the analysis by getting a sense of what are the most common genres for each market. For this, we'll need to build frequency tables for `Category` and `Genre` columns in Google Play dataset and `prime_genre` for Apple Store dataset."
   ]
  },
  {
   "cell_type": "markdown",
   "id": "going-kruger",
   "metadata": {},
   "source": [
    "First, we will built a function to calculate the frequency table. Then we will built a function to display the percentages in a descending order."
   ]
  },
  {
   "cell_type": "code",
   "execution_count": 21,
   "id": "adequate-wales",
   "metadata": {},
   "outputs": [],
   "source": [
    "# Frequency table function\n",
    "def frequency_table(dataset: list, index: int):\n",
    "    freq_dict = {}\n",
    "    for row in dataset:\n",
    "        value = row[index]\n",
    "        if value in freq_dict:\n",
    "            freq_dict[value] += 1\n",
    "        else:\n",
    "            freq_dict[value] = 1\n",
    "    \n",
    "    # calculate the percentage for each genre\n",
    "    for row in freq_dict:\n",
    "        freq_dict[row] = round((freq_dict[row]/len(dataset))*100,2)\n",
    "        #print(row,': ',freq_dict[row])\n",
    "    return freq_dict\n",
    "        \n",
    "    "
   ]
  },
  {
   "cell_type": "code",
   "execution_count": 22,
   "id": "listed-attack",
   "metadata": {},
   "outputs": [
    {
     "data": {
      "text/plain": [
       "{'Productivity': 1.74,\n",
       " 'Weather': 0.87,\n",
       " 'Shopping': 2.61,\n",
       " 'Reference': 0.56,\n",
       " 'Finance': 1.12,\n",
       " 'Music': 2.05,\n",
       " 'Utilities': 2.51,\n",
       " 'Travel': 1.24,\n",
       " 'Social Networking': 3.29,\n",
       " 'Sports': 2.14,\n",
       " 'Health & Fitness': 2.02,\n",
       " 'Games': 58.16,\n",
       " 'Food & Drink': 0.81,\n",
       " 'News': 1.33,\n",
       " 'Book': 0.43,\n",
       " 'Photo & Video': 4.97,\n",
       " 'Entertainment': 7.88,\n",
       " 'Business': 0.53,\n",
       " 'Lifestyle': 1.58,\n",
       " 'Education': 3.66,\n",
       " 'Navigation': 0.19,\n",
       " 'Medical': 0.19,\n",
       " 'Catalogs': 0.12}"
      ]
     },
     "execution_count": 22,
     "metadata": {},
     "output_type": "execute_result"
    }
   ],
   "source": [
    "teste = frequency_table(free_ios_apps, 12)\n",
    "teste"
   ]
  },
  {
   "cell_type": "code",
   "execution_count": 23,
   "id": "satisfied-stationery",
   "metadata": {},
   "outputs": [],
   "source": [
    "# Display results function\n",
    "def display_results(dataset: list, index: int):\n",
    "    freq_dict = frequency_table(dataset, index)\n",
    "    table = []\n",
    "    for row in freq_dict:\n",
    "        entry_as_tuple = (freq_dict[row], row)\n",
    "        table.append(entry_as_tuple)\n",
    "    # Sort the table descending\n",
    "    table_sorted = sorted(table, reverse = True)\n",
    "    for row in table_sorted:\n",
    "        print(row[1],':',row[0],'%')\n",
    "    #print(table)\n"
   ]
  },
  {
   "cell_type": "markdown",
   "id": "indian-appendix",
   "metadata": {},
   "source": [
    "We will start analyzing the frequency table for the the `prime_genre`column of the Apple store dataset."
   ]
  },
  {
   "cell_type": "code",
   "execution_count": 24,
   "id": "labeled-flexibility",
   "metadata": {},
   "outputs": [
    {
     "name": "stdout",
     "output_type": "stream",
     "text": [
      "Games : 58.16 %\n",
      "Entertainment : 7.88 %\n",
      "Photo & Video : 4.97 %\n",
      "Education : 3.66 %\n",
      "Social Networking : 3.29 %\n",
      "Shopping : 2.61 %\n",
      "Utilities : 2.51 %\n",
      "Sports : 2.14 %\n",
      "Music : 2.05 %\n",
      "Health & Fitness : 2.02 %\n",
      "Productivity : 1.74 %\n",
      "Lifestyle : 1.58 %\n",
      "News : 1.33 %\n",
      "Travel : 1.24 %\n",
      "Finance : 1.12 %\n",
      "Weather : 0.87 %\n",
      "Food & Drink : 0.81 %\n",
      "Reference : 0.56 %\n",
      "Business : 0.53 %\n",
      "Book : 0.43 %\n",
      "Navigation : 0.19 %\n",
      "Medical : 0.19 %\n",
      "Catalogs : 0.12 %\n"
     ]
    }
   ],
   "source": [
    "display_results(free_ios_apps, 12)"
   ]
  },
  {
   "cell_type": "markdown",
   "id": "portable-batch",
   "metadata": {},
   "source": [
    "We can verify for the English free apps, over then **55.65% are games**. Following we have Entertainment apps with 8.23%, then Photo & Video with 4.12%, Social Networking with 3.53% and Education Apps with 3.25%, closing then our Top 5 Prime Genre apps.\n",
    "\n",
    "In general, most off the apps available in the Apple Store are designed for fun (Games, Entertainment, Photo and Video, Social Networks, Sports, etc). However it doesn't not mean that those apps have a high number of users."
   ]
  },
  {
   "cell_type": "markdown",
   "id": "gothic-administration",
   "metadata": {},
   "source": [
    "Now it's time to observe the frequency table for `Category` and `Genre` columns in Google Play dataset. It seems that both columns share some similarities."
   ]
  },
  {
   "cell_type": "code",
   "execution_count": 25,
   "id": "specialized-recommendation",
   "metadata": {},
   "outputs": [],
   "source": [
    "# Google Play store dataset\n",
    "category_index = 1\n",
    "genre_index = 9"
   ]
  },
  {
   "cell_type": "code",
   "execution_count": 26,
   "id": "mature-voice",
   "metadata": {},
   "outputs": [
    {
     "name": "stdout",
     "output_type": "stream",
     "text": [
      "FAMILY : 18.91 %\n",
      "GAME : 9.72 %\n",
      "TOOLS : 8.46 %\n",
      "BUSINESS : 4.59 %\n",
      "LIFESTYLE : 3.9 %\n",
      "PRODUCTIVITY : 3.89 %\n",
      "FINANCE : 3.7 %\n",
      "MEDICAL : 3.53 %\n",
      "SPORTS : 3.4 %\n",
      "PERSONALIZATION : 3.32 %\n",
      "COMMUNICATION : 3.24 %\n",
      "HEALTH_AND_FITNESS : 3.08 %\n",
      "PHOTOGRAPHY : 2.94 %\n",
      "NEWS_AND_MAGAZINES : 2.8 %\n",
      "SOCIAL : 2.66 %\n",
      "TRAVEL_AND_LOCAL : 2.34 %\n",
      "SHOPPING : 2.25 %\n",
      "BOOKS_AND_REFERENCE : 2.14 %\n",
      "DATING : 1.86 %\n",
      "VIDEO_PLAYERS : 1.79 %\n",
      "MAPS_AND_NAVIGATION : 1.4 %\n",
      "FOOD_AND_DRINK : 1.24 %\n",
      "EDUCATION : 1.16 %\n",
      "ENTERTAINMENT : 0.96 %\n",
      "LIBRARIES_AND_DEMO : 0.94 %\n",
      "AUTO_AND_VEHICLES : 0.93 %\n",
      "HOUSE_AND_HOME : 0.82 %\n",
      "WEATHER : 0.8 %\n",
      "EVENTS : 0.71 %\n",
      "PARENTING : 0.65 %\n",
      "ART_AND_DESIGN : 0.64 %\n",
      "COMICS : 0.62 %\n",
      "BEAUTY : 0.6 %\n"
     ]
    }
   ],
   "source": [
    "display_results(free_android_apps,category_index)"
   ]
  },
  {
   "cell_type": "markdown",
   "id": "tropical-snowboard",
   "metadata": {},
   "source": [
    "In this case, looks a little bit different compared to Apple Store frequency table. There is more diversification on the apps. Most of the top 5 apps are design for pratical purposes (Family, Tools, Business, Lifestyle, Productivity and so on)."
   ]
  },
  {
   "cell_type": "code",
   "execution_count": 27,
   "id": "elect-martin",
   "metadata": {},
   "outputs": [
    {
     "name": "stdout",
     "output_type": "stream",
     "text": [
      "Tools : 8.45 %\n",
      "Entertainment : 6.07 %\n",
      "Education : 5.35 %\n",
      "Business : 4.59 %\n",
      "Productivity : 3.89 %\n",
      "Lifestyle : 3.89 %\n",
      "Finance : 3.7 %\n",
      "Medical : 3.53 %\n",
      "Sports : 3.46 %\n",
      "Personalization : 3.32 %\n",
      "Communication : 3.24 %\n",
      "Action : 3.1 %\n",
      "Health & Fitness : 3.08 %\n",
      "Photography : 2.94 %\n",
      "News & Magazines : 2.8 %\n",
      "Social : 2.66 %\n",
      "Travel & Local : 2.32 %\n",
      "Shopping : 2.25 %\n",
      "Books & Reference : 2.14 %\n",
      "Simulation : 2.04 %\n",
      "Dating : 1.86 %\n",
      "Arcade : 1.85 %\n",
      "Video Players & Editors : 1.77 %\n",
      "Casual : 1.76 %\n",
      "Maps & Navigation : 1.4 %\n",
      "Food & Drink : 1.24 %\n",
      "Puzzle : 1.13 %\n",
      "Racing : 0.99 %\n",
      "Role Playing : 0.94 %\n",
      "Libraries & Demo : 0.94 %\n",
      "Auto & Vehicles : 0.93 %\n",
      "Strategy : 0.91 %\n",
      "House & Home : 0.82 %\n",
      "Weather : 0.8 %\n",
      "Events : 0.71 %\n",
      "Adventure : 0.68 %\n",
      "Comics : 0.61 %\n",
      "Beauty : 0.6 %\n",
      "Art & Design : 0.6 %\n",
      "Parenting : 0.5 %\n",
      "Card : 0.45 %\n",
      "Casino : 0.43 %\n",
      "Trivia : 0.42 %\n",
      "Educational;Education : 0.39 %\n",
      "Board : 0.38 %\n",
      "Educational : 0.37 %\n",
      "Education;Education : 0.34 %\n",
      "Word : 0.26 %\n",
      "Casual;Pretend Play : 0.24 %\n",
      "Music : 0.2 %\n",
      "Racing;Action & Adventure : 0.17 %\n",
      "Puzzle;Brain Games : 0.17 %\n",
      "Entertainment;Music & Video : 0.17 %\n",
      "Casual;Brain Games : 0.14 %\n",
      "Casual;Action & Adventure : 0.14 %\n",
      "Arcade;Action & Adventure : 0.12 %\n",
      "Action;Action & Adventure : 0.1 %\n",
      "Educational;Pretend Play : 0.09 %\n",
      "Simulation;Action & Adventure : 0.08 %\n",
      "Parenting;Education : 0.08 %\n",
      "Entertainment;Brain Games : 0.08 %\n",
      "Board;Brain Games : 0.08 %\n",
      "Parenting;Music & Video : 0.07 %\n",
      "Educational;Brain Games : 0.07 %\n",
      "Casual;Creativity : 0.07 %\n",
      "Art & Design;Creativity : 0.07 %\n",
      "Education;Pretend Play : 0.06 %\n",
      "Role Playing;Pretend Play : 0.05 %\n",
      "Education;Creativity : 0.05 %\n",
      "Role Playing;Action & Adventure : 0.03 %\n",
      "Puzzle;Action & Adventure : 0.03 %\n",
      "Entertainment;Creativity : 0.03 %\n",
      "Entertainment;Action & Adventure : 0.03 %\n",
      "Educational;Creativity : 0.03 %\n",
      "Educational;Action & Adventure : 0.03 %\n",
      "Education;Music & Video : 0.03 %\n",
      "Education;Brain Games : 0.03 %\n",
      "Education;Action & Adventure : 0.03 %\n",
      "Adventure;Action & Adventure : 0.03 %\n",
      "Video Players & Editors;Music & Video : 0.02 %\n",
      "Sports;Action & Adventure : 0.02 %\n",
      "Simulation;Pretend Play : 0.02 %\n",
      "Puzzle;Creativity : 0.02 %\n",
      "Music;Music & Video : 0.02 %\n",
      "Entertainment;Pretend Play : 0.02 %\n",
      "Casual;Education : 0.02 %\n",
      "Board;Action & Adventure : 0.02 %\n",
      "Video Players & Editors;Creativity : 0.01 %\n",
      "Trivia;Education : 0.01 %\n",
      "Travel & Local;Action & Adventure : 0.01 %\n",
      "Tools;Education : 0.01 %\n",
      "Strategy;Education : 0.01 %\n",
      "Strategy;Creativity : 0.01 %\n",
      "Strategy;Action & Adventure : 0.01 %\n",
      "Simulation;Education : 0.01 %\n",
      "Role Playing;Brain Games : 0.01 %\n",
      "Racing;Pretend Play : 0.01 %\n",
      "Puzzle;Education : 0.01 %\n",
      "Parenting;Brain Games : 0.01 %\n",
      "Music & Audio;Music & Video : 0.01 %\n",
      "Lifestyle;Pretend Play : 0.01 %\n",
      "Lifestyle;Education : 0.01 %\n",
      "Health & Fitness;Education : 0.01 %\n",
      "Health & Fitness;Action & Adventure : 0.01 %\n",
      "Entertainment;Education : 0.01 %\n",
      "Communication;Creativity : 0.01 %\n",
      "Comics;Creativity : 0.01 %\n",
      "Casual;Music & Video : 0.01 %\n",
      "Card;Action & Adventure : 0.01 %\n",
      "Books & Reference;Education : 0.01 %\n",
      "Art & Design;Pretend Play : 0.01 %\n",
      "Art & Design;Action & Adventure : 0.01 %\n",
      "Arcade;Pretend Play : 0.01 %\n",
      "Adventure;Education : 0.01 %\n"
     ]
    }
   ],
   "source": [
    "display_results(free_android_apps,genre_index)"
   ]
  },
  {
   "cell_type": "markdown",
   "id": "qualified-proxy",
   "metadata": {},
   "source": [
    "It's not very clear what is difference between `Category` and `Genre` columns in Google Play dataset. It seems that `Genre` column is much more granular, it's like a subset of the `Category` column."
   ]
  },
  {
   "cell_type": "markdown",
   "id": "monetary-sussex",
   "metadata": {},
   "source": [
    "Now that we checked the frequency table for both datasets, Apple and Google, we can conclude that the Apple dataset has a significant percentage apps for fun, while Google Play dataset display a variety of apps, most of them are pratical apps."
   ]
  },
  {
   "cell_type": "markdown",
   "id": "recorded-checklist",
   "metadata": {},
   "source": [
    "### 3.1 Popular Apps by Genre in Apple Store"
   ]
  },
  {
   "cell_type": "markdown",
   "id": "polish-yorkshire",
   "metadata": {},
   "source": [
    "One way to find out what genres are the most popular (have the most users) is to calculate the average number of installs for each app genre. For the Google Play dataset, we can find this information in the `Installs` column, but this information is missing for the App Store dataset. As a workaround, we'll take the total number of user ratings as a proxy, which we can find in the `rating_count_tot`app."
   ]
  },
  {
   "cell_type": "code",
   "execution_count": 28,
   "id": "offshore-reduction",
   "metadata": {},
   "outputs": [
    {
     "name": "stdout",
     "output_type": "stream",
     "text": [
      "Navigation : 86090.33333333333\n",
      "Reference : 74942.11111111111\n",
      "Social Networking : 71548.34905660378\n",
      "Music : 57326.530303030304\n",
      "Weather : 52279.892857142855\n",
      "Book : 39758.5\n",
      "Food & Drink : 33333.92307692308\n",
      "Finance : 31467.944444444445\n",
      "Photo & Video : 28441.54375\n",
      "Travel : 28243.8\n",
      "Shopping : 26919.690476190477\n",
      "Health & Fitness : 23298.015384615384\n",
      "Sports : 23008.898550724636\n",
      "Games : 22788.6696905016\n",
      "News : 21248.023255813954\n",
      "Productivity : 21028.410714285714\n",
      "Utilities : 18684.456790123455\n",
      "Lifestyle : 16485.764705882353\n",
      "Entertainment : 14029.830708661417\n",
      "Business : 7491.117647058823\n",
      "Education : 7003.983050847458\n",
      "Catalogs : 4004.0\n",
      "Medical : 612.0\n"
     ]
    }
   ],
   "source": [
    "prime_genre_index = 12\n",
    "genres_apple = frequency_table(free_ios_apps, prime_genre_index)\n",
    "popular_apple_apps = []\n",
    "\n",
    "for genre in genres_apple:\n",
    "    #print(genre)\n",
    "    total = 0\n",
    "    len_genre = 0\n",
    "    for row in free_ios_apps:\n",
    "        genre_app = row[prime_genre_index]\n",
    "        if genre == genre_app:\n",
    "            usr_ratings = float(row[6])\n",
    "            #print(usr_ratings)\n",
    "            total += usr_ratings\n",
    "            len_genre += 1\n",
    "    avg_nbr_installs = total/len_genre\n",
    "    popular_apple_apps.append((avg_nbr_installs,genre))\n",
    "    \n",
    "popular_apple_apps_sorted = sorted(popular_apple_apps, reverse = True)\n",
    "for row in popular_apple_apps_sorted: \n",
    "    print(row[1],':',row[0])\n",
    "            "
   ]
  },
  {
   "cell_type": "markdown",
   "id": "stylish-algebra",
   "metadata": {},
   "source": [
    "On average, Navigation apps have the highest number of user reviews, followed by reference, music, social networking, weather and photo & video.\n",
    "\n",
    "The highest number of user reviews in navigation apps is heavily in influenced by Waze and Google Maps (popular apps).\n"
   ]
  },
  {
   "cell_type": "code",
   "execution_count": 29,
   "id": "artificial-qatar",
   "metadata": {},
   "outputs": [
    {
     "name": "stdout",
     "output_type": "stream",
     "text": [
      "Waze - GPS Navigation, Maps & Real-time Traffic : 345046\n",
      "Geocaching® : 12811\n",
      "ImmobilienScout24: Real Estate Search in Germany : 187\n",
      "Railway Route Search : 5\n",
      "CoPilot GPS – Car Navigation & Offline Maps : 3582\n",
      "Google Maps - Navigation & Transit : 154911\n"
     ]
    }
   ],
   "source": [
    "for app in free_ios_apps:\n",
    "    if app[12] == 'Navigation':\n",
    "        print(app[2],':',app[6])"
   ]
  },
  {
   "cell_type": "markdown",
   "id": "written-merchandise",
   "metadata": {},
   "source": [
    "It's also possible to observe the same pattern in Music and Social Networking.\n",
    "- **Music**: Pandora / Shazam / Spotify\n",
    "- **Social Networking**: Facebook / Skype / Pinterest / Whatsapp"
   ]
  },
  {
   "cell_type": "code",
   "execution_count": 30,
   "id": "mighty-handy",
   "metadata": {},
   "outputs": [
    {
     "name": "stdout",
     "output_type": "stream",
     "text": [
      "Bible : 985920\n",
      "Dictionary.com Dictionary & Thesaurus : 200047\n",
      "Dictionary.com Dictionary & Thesaurus for iPad : 54175\n",
      "Muslim Pro: Ramadan 2017 Prayer Times, Azan, Quran : 18418\n",
      "Merriam-Webster Dictionary : 16849\n",
      "Google Translate : 26786\n",
      "Night Sky : 12122\n",
      "WWDC : 762\n",
      "Jishokun-Japanese English Dictionary & Translator : 0\n",
      "教えて!goo : 0\n",
      "VPN Express : 14\n",
      "New Furniture Mods - Pocket Wiki & Game Tools for Minecraft PC Edition : 17588\n",
      "LUCKY BLOCK MOD ™ for Minecraft PC Edition - The Best Pocket Wiki & Mods Installer Tools : 4693\n",
      "Guides for Pokémon GO - Pokemon GO News and Cheats : 826\n",
      "Horror Maps for Minecraft PE - Download The Scariest Maps for Minecraft Pocket Edition (MCPE) Free : 718\n",
      "City Maps for Minecraft PE - The Best Maps for Minecraft Pocket Edition (MCPE) : 8535\n",
      "GUNS MODS for Minecraft PC Edition - Mods Tools : 1497\n",
      "Real Bike Traffic Rider Virtual Reality Glasses : 8\n"
     ]
    }
   ],
   "source": [
    "for app in free_ios_apps:\n",
    "    if app[12] == 'Reference':\n",
    "        print(app[2],':',app[6])"
   ]
  },
  {
   "cell_type": "code",
   "execution_count": 31,
   "id": "broad-glossary",
   "metadata": {},
   "outputs": [
    {
     "name": "stdout",
     "output_type": "stream",
     "text": [
      "Bible : 985920\n",
      "Dictionary.com Dictionary & Thesaurus : 200047\n",
      "Dictionary.com Dictionary & Thesaurus for iPad : 54175\n",
      "Muslim Pro: Ramadan 2017 Prayer Times, Azan, Quran : 18418\n",
      "Merriam-Webster Dictionary : 16849\n",
      "Google Translate : 26786\n",
      "Night Sky : 12122\n",
      "WWDC : 762\n",
      "Jishokun-Japanese English Dictionary & Translator : 0\n",
      "教えて!goo : 0\n",
      "VPN Express : 14\n",
      "New Furniture Mods - Pocket Wiki & Game Tools for Minecraft PC Edition : 17588\n",
      "LUCKY BLOCK MOD ™ for Minecraft PC Edition - The Best Pocket Wiki & Mods Installer Tools : 4693\n",
      "Guides for Pokémon GO - Pokemon GO News and Cheats : 826\n",
      "Horror Maps for Minecraft PE - Download The Scariest Maps for Minecraft Pocket Edition (MCPE) Free : 718\n",
      "City Maps for Minecraft PE - The Best Maps for Minecraft Pocket Edition (MCPE) : 8535\n",
      "GUNS MODS for Minecraft PC Edition - Mods Tools : 1497\n",
      "Real Bike Traffic Rider Virtual Reality Glasses : 8\n"
     ]
    }
   ],
   "source": [
    "for app in free_ios_apps:\n",
    "    if app[12] == 'Reference':\n",
    "        print(app[2],':',app[6])"
   ]
  },
  {
   "cell_type": "markdown",
   "id": "built-disco",
   "metadata": {},
   "source": [
    "The highest number of user reviews in reference apps is heavily in influenced by Bible and Dictionary.com."
   ]
  },
  {
   "cell_type": "markdown",
   "id": "imposed-roller",
   "metadata": {},
   "source": [
    "This genre could be a good choise to developed a new app. Since our main source of revenue consists on in-apps ads and usually people spend some time on these types of apps this can be an excellent option. Pick up a famous book and transform it into an app."
   ]
  },
  {
   "cell_type": "markdown",
   "id": "rapid-poland",
   "metadata": {},
   "source": [
    "Let's do a quick analysis on the other genres with high user revenues.\n",
    "- Weather: Usually people don't spend much time on these kind of apps\n",
    "- Book: It seems to overlap the Reference genre, so in this case we can ignore\n",
    "- Food & Drinks: Some of the famous fast food companies dominate this genre in Apple Store. It will be hard to have a market share in this genre."
   ]
  },
  {
   "cell_type": "markdown",
   "id": "ignored-bundle",
   "metadata": {},
   "source": [
    "### 3.2 Popular Apps by Genre in Google Play"
   ]
  },
  {
   "cell_type": "markdown",
   "id": "killing-detective",
   "metadata": {},
   "source": [
    "In Google Play dataset we have the number of user installs. However, the install numbers don't seem precise enough — we can see that most values are open-ended (100+, 1,000+, 5,000+, etc.). For instance, we don't know whether an app with 100,000+ installs has 100,000 installs, 200,000, or 350,000. However, we don't need very precise data for our purposes — we only want to find out which app genres attract the most users."
   ]
  },
  {
   "cell_type": "code",
   "execution_count": 32,
   "id": "increased-newark",
   "metadata": {},
   "outputs": [
    {
     "name": "stdout",
     "output_type": "stream",
     "text": [
      "1,000,000+ : 15.73 %\n",
      "100,000+ : 11.55 %\n",
      "10,000,000+ : 10.55 %\n",
      "10,000+ : 10.2 %\n",
      "1,000+ : 8.39 %\n",
      "100+ : 6.92 %\n",
      "5,000,000+ : 6.83 %\n",
      "500,000+ : 5.56 %\n",
      "50,000+ : 4.77 %\n",
      "5,000+ : 4.51 %\n",
      "10+ : 3.54 %\n",
      "500+ : 3.25 %\n",
      "50,000,000+ : 2.3 %\n",
      "100,000,000+ : 2.13 %\n",
      "50+ : 1.92 %\n",
      "5+ : 0.79 %\n",
      "1+ : 0.51 %\n",
      "500,000,000+ : 0.27 %\n",
      "1,000,000,000+ : 0.23 %\n",
      "0+ : 0.05 %\n",
      "0 : 0.01 %\n"
     ]
    }
   ],
   "source": [
    "display_results(free_android_apps,5)"
   ]
  },
  {
   "cell_type": "markdown",
   "id": "following-surgeon",
   "metadata": {},
   "source": [
    "We're going to leave the numbers as they are, which means that we'll consider that an app with 100,000+ installs has 100,000 installs, and an app with 1,000,000+ installs has 1,000,000 installs, and so on. To perform computations, however, we'll need to convert each install number from a string to a float. This means we need to remove the commas and the plus characters, or the conversion will fail and cause an error."
   ]
  },
  {
   "cell_type": "code",
   "execution_count": 33,
   "id": "sufficient-casino",
   "metadata": {},
   "outputs": [],
   "source": [
    "category_index = 1\n",
    "category_android = frequency_table(free_android_apps, category_index)"
   ]
  },
  {
   "cell_type": "code",
   "execution_count": 34,
   "id": "broke-inclusion",
   "metadata": {},
   "outputs": [
    {
     "name": "stdout",
     "output_type": "stream",
     "text": [
      "COMMUNICATION : 38456119.167247385\n",
      "VIDEO_PLAYERS : 24727872.452830188\n",
      "SOCIAL : 23253652.127118643\n",
      "PHOTOGRAPHY : 17840110.40229885\n",
      "PRODUCTIVITY : 16787331.344927534\n",
      "GAME : 15588015.603248259\n",
      "TRAVEL_AND_LOCAL : 13984077.710144928\n",
      "ENTERTAINMENT : 11640705.88235294\n",
      "TOOLS : 10801391.298666667\n",
      "NEWS_AND_MAGAZINES : 9549178.467741935\n",
      "BOOKS_AND_REFERENCE : 8767811.894736841\n",
      "SHOPPING : 7036877.311557789\n",
      "PERSONALIZATION : 5201482.6122448975\n",
      "WEATHER : 5074486.197183099\n",
      "HEALTH_AND_FITNESS : 4188821.9853479853\n",
      "MAPS_AND_NAVIGATION : 4056941.7741935486\n",
      "FAMILY : 3695641.8198090694\n",
      "SPORTS : 3638640.1428571427\n",
      "ART_AND_DESIGN : 1986335.0877192982\n",
      "FOOD_AND_DRINK : 1924897.7363636363\n",
      "EDUCATION : 1833495.145631068\n",
      "BUSINESS : 1712290.1474201474\n",
      "LIFESTYLE : 1437816.2687861272\n",
      "FINANCE : 1387692.475609756\n",
      "HOUSE_AND_HOME : 1331540.5616438356\n",
      "DATING : 854028.8303030303\n",
      "COMICS : 817657.2727272727\n",
      "AUTO_AND_VEHICLES : 647317.8170731707\n",
      "LIBRARIES_AND_DEMO : 638503.734939759\n",
      "PARENTING : 542603.6206896552\n",
      "BEAUTY : 513151.88679245283\n",
      "EVENTS : 253542.22222222222\n",
      "MEDICAL : 120550.61980830671\n"
     ]
    }
   ],
   "source": [
    "installs_index = 5 # index of number of installs\n",
    "popular_android_apps = []\n",
    "for category in category_android:\n",
    "    #print(category)\n",
    "    total = 0\n",
    "    len_category = 0\n",
    "    for app in free_android_apps:\n",
    "        if category == app[1]:\n",
    "            nbr_installs = float(app[installs_index].replace('+','').replace(',',''))\n",
    "            total += nbr_installs\n",
    "            len_category +=1\n",
    "    avg_category_installs = total/len_category\n",
    "    popular_android_apps.append((avg_category_installs,category))\n",
    "\n",
    "category_android_sorted = sorted(popular_android_apps, reverse = True)\n",
    "for cat in category_android_sorted:\n",
    "    print(cat[1],':',cat[0])\n",
    "    "
   ]
  },
  {
   "cell_type": "markdown",
   "id": "dynamic-franklin",
   "metadata": {},
   "source": [
    "On top 5 of Android free apps, on average, we can find Communication apps as the first one, followed by video_players, social, photography and productivity."
   ]
  },
  {
   "cell_type": "code",
   "execution_count": 35,
   "id": "generous-gentleman",
   "metadata": {},
   "outputs": [
    {
     "name": "stdout",
     "output_type": "stream",
     "text": [
      "Messenger – Text and Video Chat for Free : 1,000,000,000+\n",
      "WhatsApp Messenger : 1,000,000,000+\n",
      "Google Chrome: Fast & Secure : 1,000,000,000+\n",
      "Gmail : 1,000,000,000+\n",
      "Hangouts : 1,000,000,000+\n",
      "Viber Messenger : 500,000,000+\n",
      "imo free video calls and chat : 500,000,000+\n",
      "Google Duo - High Quality Video Calls : 500,000,000+\n",
      "UC Browser - Fast Download Private & Secure : 500,000,000+\n",
      "Skype - free IM & video calls : 1,000,000,000+\n",
      "LINE: Free Calls & Messages : 500,000,000+\n"
     ]
    }
   ],
   "source": [
    "for app in free_android_apps:\n",
    "    if app[1] == 'COMMUNICATION' and (app[5] == '1,000,000,000+' or app[5] == '500,000,000+'):\n",
    "        print(app[0],':',app[5])"
   ]
  },
  {
   "cell_type": "markdown",
   "id": "cooked-arrow",
   "metadata": {},
   "source": [
    "As we can see above, this category is dominated by the big players on the industry like Messenger, WhatsApp, Google Apps. The same apps in VIDEO_PLAYERS Category lead by Youtube, Google Play Movies and MX Player. The same pattern applies to the rest of the top five categories: SOCIAL (Facebook, Instagram, Snapchat), PHOTOGRAPHY (Google Photos and other apps over 100,000,000 installs) and PRODUCTIVITY (Microsoft apps, Google apps...) "
   ]
  },
  {
   "cell_type": "code",
   "execution_count": 36,
   "id": "banner-respondent",
   "metadata": {},
   "outputs": [
    {
     "name": "stdout",
     "output_type": "stream",
     "text": [
      "VIDEO_PLAYERS -------------------\n",
      "YouTube : 1,000,000,000+\n",
      "Motorola FM Radio : 100,000,000+\n",
      "Motorola Gallery : 100,000,000+\n",
      "VLC for Android : 100,000,000+\n",
      "Google Play Movies & TV : 1,000,000,000+\n",
      "MX Player : 500,000,000+\n",
      "Dubsmash : 100,000,000+\n",
      "VivaVideo - Video Editor & Photo Movie : 100,000,000+\n",
      "VideoShow-Video Editor, Video Maker, Beauty Camera : 100,000,000+\n",
      "\n",
      "\n",
      "SOCIAL -------------------\n",
      "Facebook : 1,000,000,000+\n",
      "Instagram : 1,000,000,000+\n",
      "Facebook Lite : 500,000,000+\n",
      "Tumblr : 100,000,000+\n",
      "Snapchat : 500,000,000+\n",
      "Pinterest : 100,000,000+\n",
      "Google+ : 1,000,000,000+\n",
      "LinkedIn : 100,000,000+\n",
      "Badoo - Free Chat & Dating App : 100,000,000+\n",
      "Tango - Live Video Broadcast : 100,000,000+\n",
      "Tik Tok - including musical.ly : 100,000,000+\n",
      "BIGO LIVE - Live Stream : 100,000,000+\n",
      "VK : 100,000,000+\n",
      "\n",
      "\n",
      "PHOTOGRAPHY -------------------\n",
      "Google Photos : 1,000,000,000+\n",
      "B612 - Beauty & Filter Camera : 100,000,000+\n",
      "YouCam Makeup - Magic Selfie Makeovers : 100,000,000+\n",
      "BeautyPlus - Easy Photo Editor & Selfie Camera : 100,000,000+\n",
      "Sweet Selfie - selfie camera, beauty cam, photo edit : 100,000,000+\n",
      "YouCam Perfect - Selfie Photo Editor : 100,000,000+\n",
      "Cymera Camera- Photo Editor, Filter,Collage,Layout : 100,000,000+\n",
      "LINE Camera - Photo editor : 100,000,000+\n",
      "Candy Camera - selfie, beauty camera, photo editor : 100,000,000+\n",
      "Camera360: Selfie Photo Editor with Funny Sticker : 100,000,000+\n",
      "Photo Editor Pro : 100,000,000+\n",
      "Retrica : 100,000,000+\n",
      "PicsArt Photo Studio: Collage Maker & Pic Editor : 100,000,000+\n",
      "Photo Collage Editor : 100,000,000+\n",
      "Z Camera - Photo Editor, Beauty Selfie, Collage : 100,000,000+\n",
      "PhotoGrid: Video & Pic Collage Maker, Photo Editor : 100,000,000+\n",
      "S Photo Editor - Collage Maker , Photo Collage : 100,000,000+\n",
      "AR effect : 100,000,000+\n",
      "Photo Editor Collage Maker Pro : 100,000,000+\n",
      "\n",
      "\n",
      "PRODUCTIVITY -------------------\n",
      "Microsoft Word : 500,000,000+\n",
      "Adobe Acrobat Reader : 100,000,000+\n",
      "Google Drive : 1,000,000,000+\n",
      "Microsoft Outlook : 100,000,000+\n",
      "Microsoft Excel : 100,000,000+\n",
      "Microsoft OneDrive : 100,000,000+\n",
      "Microsoft OneNote : 100,000,000+\n",
      "Google Keep : 100,000,000+\n",
      "ES File Explorer File Manager : 100,000,000+\n",
      "Dropbox : 500,000,000+\n",
      "Google Calendar : 500,000,000+\n",
      "Google Docs : 100,000,000+\n",
      "Evernote – Organizer, Planner for Notes & Memos : 100,000,000+\n",
      "Microsoft PowerPoint : 100,000,000+\n",
      "Samsung Notes : 100,000,000+\n",
      "SwiftKey Keyboard : 100,000,000+\n",
      "Google Sheets : 100,000,000+\n",
      "WPS Office - Word, Docs, PDF, Note, Slide & Sheet : 100,000,000+\n",
      "Google Slides : 100,000,000+\n",
      "ColorNote Notepad Notes : 100,000,000+\n",
      "Cloud Print : 500,000,000+\n",
      "CamScanner - Phone PDF Creator : 100,000,000+\n",
      "\n",
      "\n"
     ]
    }
   ],
   "source": [
    "top_5 = ['VIDEO_PLAYERS','SOCIAL', 'PHOTOGRAPHY', 'PRODUCTIVITY']\n",
    "for cat in top_5:\n",
    "    print(cat,'-------------------')\n",
    "    for app in free_android_apps:\n",
    "        if app[1] == cat and (app[5] == '1,000,000,000+' or app[5] == '500,000,000+' or app[5] == '100,000,000+'):\n",
    "            print(app[0],':',app[5])\n",
    "    print('\\n')"
   ]
  },
  {
   "cell_type": "markdown",
   "id": "united-scroll",
   "metadata": {},
   "source": [
    "As we see, the top 5 categories are dominated by the biggest players in the industry so it will be hard to compete against them. The GAME category could be a good option because it has a bunch of apps but as we know, this market is over dominated for free games with in-app ads. It will not be profit for us.\n",
    "\n",
    "We can do the same analysis that we did for Apple Store. Let's check if BOOKS_AND_REFERENCE category has potential."
   ]
  },
  {
   "cell_type": "code",
   "execution_count": 37,
   "id": "intellectual-transmission",
   "metadata": {},
   "outputs": [
    {
     "name": "stdout",
     "output_type": "stream",
     "text": [
      "Wattpad 📖 Free Books : 100,000,000+\n",
      "Amazon Kindle : 100,000,000+\n",
      "Google Play Books : 1,000,000,000+\n",
      "Bible : 100,000,000+\n",
      "Audiobooks from Audible : 100,000,000+\n"
     ]
    }
   ],
   "source": [
    "for app in free_android_apps:\n",
    "    if app[1] == 'BOOKS_AND_REFERENCE' and (app[5] == '1,000,000,000+' or app[5] == '500,000,000+' or app[5] == '100,000,000+'):\n",
    "        print(app[0],':',app[5])"
   ]
  },
  {
   "cell_type": "code",
   "execution_count": 38,
   "id": "incomplete-mining",
   "metadata": {},
   "outputs": [
    {
     "name": "stdout",
     "output_type": "stream",
     "text": [
      "E-Book Read - Read Book for free : 50,000+\n",
      "Download free book with green book : 100,000+\n",
      "Wikipedia : 10,000,000+\n",
      "Cool Reader : 10,000,000+\n",
      "Dictionary - Merriam-Webster : 10,000,000+\n",
      "NOOK: Read eBooks & Magazines : 10,000,000+\n",
      "Free Panda Radio Music : 100,000+\n",
      "Book store : 1,000,000+\n",
      "FBReader: Favorite Book Reader : 10,000,000+\n",
      "English Grammar Complete Handbook : 500,000+\n",
      "Free Books - Spirit Fanfiction and Stories : 1,000,000+\n",
      "AlReader -any text book reader : 5,000,000+\n",
      "Offline English Dictionary : 100,000+\n",
      "Oxford Dictionary of English : Free : 10,000,000+\n",
      "Offline: English to Tagalog Dictionary : 500,000+\n",
      "Spanish English Translator : 10,000,000+\n",
      "FamilySearch Tree : 1,000,000+\n",
      "Cloud of Books : 1,000,000+\n",
      "Recipes of Prophetic Medicine for free : 500,000+\n",
      "ReadEra – free ebook reader : 1,000,000+\n",
      "NOOK App for NOOK Devices : 500,000+\n",
      "Anonymous caller detection : 10,000+\n",
      "Ebook Reader : 5,000,000+\n",
      "Litnet - E-books : 100,000+\n",
      "Read books online : 5,000,000+\n",
      "English to Urdu Dictionary : 500,000+\n",
      "eBoox: book reader fb2 epub zip : 1,000,000+\n",
      "English Persian Dictionary : 500,000+\n",
      "Flybook : 500,000+\n",
      "All Maths Formulas : 1,000,000+\n",
      "Ancestry : 5,000,000+\n",
      "HTC Help : 10,000,000+\n",
      "English translation from Bengali : 100,000+\n",
      "Pdf Book Download - Read Pdf Book : 100,000+\n",
      "Free Book Reader : 100,000+\n",
      "eBoox new: Reader for fb2 epub zip books : 50,000+\n",
      "Only 30 days in English, the guideline is guaranteed : 500,000+\n",
      "Moon+ Reader : 10,000,000+\n",
      "SH-02J Owner's Manual (Android 8.0) : 50,000+\n",
      "English-Myanmar Dictionary : 1,000,000+\n",
      "Golden Dictionary (EN-AR) : 1,000,000+\n",
      "All Language Translator Free : 1,000,000+\n",
      "Azpen eReader : 500,000+\n",
      "URBANO V 02 instruction manual : 100,000+\n",
      "English Dictionary - Offline : 10,000,000+\n",
      "C Programs and Reference : 50,000+\n",
      "C Offline Tutorial : 1,000+\n",
      "C Programs Handbook : 50,000+\n",
      "Aab e Hayat Full Novel : 100,000+\n",
      "Aldiko Book Reader : 10,000,000+\n",
      "Google I/O 2018 : 500,000+\n",
      "R Language Reference Guide : 10,000+\n",
      "Learn R Programming Full : 5,000+\n",
      "R Programing Offline Tutorial : 1,000+\n",
      "Guide for R Programming : 5+\n",
      "Learn R Programming : 10+\n",
      "R Quick Reference Big Data : 1,000+\n",
      "V Made : 100,000+\n",
      "Dictionary - WordWeb : 5,000,000+\n",
      "Guide (for X-MEN) : 100,000+\n",
      "AC Air condition Troubleshoot,Repair,Maintenance : 5,000+\n",
      "AE Bulletins : 1,000+\n",
      "Ae Allah na Dai (Rasa) : 10,000+\n",
      "50000 Free eBooks & Free AudioBooks : 5,000,000+\n",
      "Ag PhD Field Guide : 10,000+\n",
      "Ag PhD Deficiencies : 10,000+\n",
      "Ag PhD Planting Population Calculator : 1,000+\n",
      "Ag PhD Soybean Diseases : 1,000+\n",
      "Fertilizer Removal By Crop : 50,000+\n",
      "A-J Media Vault : 50+\n",
      "Al-Quran (Free) : 10,000,000+\n",
      "Al Quran (Tafsir & by Word) : 500,000+\n",
      "Al Quran Indonesia : 10,000,000+\n",
      "Al'Quran Bahasa Indonesia : 10,000,000+\n",
      "Al Quran Al karim : 1,000,000+\n",
      "Al-Muhaffiz : 50,000+\n",
      "Al Quran : EAlim - Translations & MP3 Offline : 5,000,000+\n",
      "Al-Quran 30 Juz free copies : 500,000+\n",
      "Koran Read &MP3 30 Juz Offline : 1,000,000+\n",
      "Hafizi Quran 15 lines per page : 1,000,000+\n",
      "Quran for Android : 10,000,000+\n",
      "Surah Al-Waqiah : 100,000+\n",
      "Hisnul Al Muslim - Hisn Invocations & Adhkaar : 100,000+\n",
      "Satellite AR : 1,000,000+\n",
      "Kinot & Eichah for Tisha B'Av : 10,000+\n",
      "AW Tozer Devotionals - Daily : 5,000+\n",
      "Tozer Devotional -Series 1 : 1,000+\n",
      "The Pursuit of God : 1,000+\n",
      "AY Sing : 5,000+\n",
      "Ay Hasnain k Nana Milad Naat : 10,000+\n",
      "Ay Mohabbat Teri Khatir Novel : 10,000+\n",
      "Arizona Statutes, ARS (AZ Law) : 1,000+\n",
      "Oxford A-Z of English Usage : 1,000,000+\n",
      "BD Fishpedia : 1,000+\n",
      "BD All Sim Offer : 10,000+\n",
      "Youboox - Livres, BD et magazines : 500,000+\n",
      "B&H Kids AR : 10,000+\n",
      "B y H Niños ES : 5,000+\n",
      "Dictionary.com: Find Definitions for English Words : 10,000,000+\n",
      "Bible KJV : 5,000,000+\n",
      "Borneo Bible, BM Bible : 10,000+\n",
      "MOD Black for BM : 100+\n",
      "BM Box : 1,000+\n",
      "Anime Mod for BM : 100+\n",
      "NOOK Audiobooks : 500,000+\n",
      "Browsery by Barnes & Noble : 5,000+\n",
      "bp e-store : 1,000+\n",
      "Brilliant Quotes: Life, Love, Family & Motivation : 1,000,000+\n",
      "BR Ambedkar Biography & Quotes : 10,000+\n",
      "BU Alsace : 100+\n",
      "Catholic La Bu Zo Kam : 500+\n",
      "Khrifa Hla Bu (Solfa) : 10+\n",
      "Kristian Hla Bu : 10,000+\n",
      "SA HLA BU : 1,000+\n",
      "Learn SAP BW : 500+\n",
      "Learn SAP BW on HANA : 500+\n",
      "CA Laws 2018 (California Laws and Codes) : 5,000+\n",
      "Bootable Methods(USB-CD-DVD) : 10,000+\n",
      "cloudLibrary : 100,000+\n",
      "SDA Collegiate Quarterly : 500+\n",
      "Sabbath School : 100,000+\n",
      "Cypress College Library : 100+\n",
      "Stats Royale for Clash Royale : 1,000,000+\n",
      "GATE 21 years CS Papers(2011-2018 Solved) : 50+\n",
      "Learn CT Scan Of Head : 5,000+\n",
      "Easy Cv maker 2018 : 10,000+\n",
      "How to Write CV : 100,000+\n",
      "CW Nuclear : 1,000+\n",
      "CY Spray nozzle : 10+\n",
      "BibleRead En Cy Zh Yue : 5+\n",
      "CZ-Help : 5+\n",
      "Modlitební knížka CZ : 500+\n",
      "Guide for DB Xenoverse : 10,000+\n",
      "Guide for DB Xenoverse 2 : 10,000+\n",
      "Guide for IMS DB : 10+\n",
      "DC HSEMA : 5,000+\n",
      "DC Public Library : 1,000+\n",
      "Painting Lulu DC Super Friends : 1,000+\n",
      "Dictionary : 10,000,000+\n",
      "Fix Error Google Playstore : 1,000+\n",
      "D. H. Lawrence Poems FREE : 1,000+\n",
      "Bilingual Dictionary Audio App : 5,000+\n",
      "DM Screen : 10,000+\n",
      "wikiHow: how to do anything : 1,000,000+\n",
      "Dr. Doug's Tips : 1,000+\n",
      "Bible du Semeur-BDS (French) : 50,000+\n",
      "La citadelle du musulman : 50,000+\n",
      "DV 2019 Entry Guide : 10,000+\n",
      "DV 2019 - EDV Photo & Form : 50,000+\n",
      "DV 2018 Winners Guide : 1,000+\n",
      "EB Annual Meetings : 1,000+\n",
      "EC - AP & Telangana : 5,000+\n",
      "TN Patta Citta & EC : 10,000+\n",
      "AP Stamps and Registration : 10,000+\n",
      "CompactiMa EC pH Calibration : 100+\n",
      "EGW Writings 2 : 100,000+\n",
      "EGW Writings : 1,000,000+\n",
      "Bible with EGW Comments : 100,000+\n",
      "My Little Pony AR Guide : 1,000,000+\n",
      "SDA Sabbath School Quarterly : 500,000+\n",
      "Duaa Ek Ibaadat : 5,000+\n",
      "JW Library : 10,000,000+\n",
      "English Hindi Dictionary : 10,000,000+\n",
      "English to Hindi Dictionary : 5,000,000+\n",
      "EP Research Service : 1,000+\n",
      "Hymnes et Louanges : 100,000+\n",
      "EU Charter : 1,000+\n",
      "EU Data Protection : 1,000+\n",
      "EU IP Codes : 100+\n",
      "EW PDF : 5+\n",
      "BakaReader EX : 100,000+\n",
      "EZ Quran : 50,000+\n",
      "FA Part 1 & 2 Past Papers Solved Free – Offline : 5,000+\n",
      "La Fe de Jesus : 1,000+\n",
      "La Fe de Jesús : 500+\n",
      "Le Fe de Jesus : 500+\n",
      "Florida - Pocket Brainbook : 1,000+\n",
      "Florida Statutes (FL Code) : 1,000+\n",
      "English To Shona Dictionary : 10,000+\n",
      "Greek Bible FP (Audio) : 1,000+\n",
      "Golden Dictionary (FR-AR) : 500,000+\n",
      "Fanfic-FR : 5,000+\n",
      "Bulgarian French Dictionary Fr : 10,000+\n",
      "Chemin (fr) : 1,000+\n",
      "The SCP Foundation DB fr nn5n : 1,000+\n"
     ]
    }
   ],
   "source": [
    "for app in free_android_apps:\n",
    "    if app[1] == 'BOOKS_AND_REFERENCE' and not (app[5] == '1,000,000,000+' or app[5] == '500,000,000+' or app[5] == '100,000,000+'):\n",
    "        print(app[0],':',app[5])"
   ]
  },
  {
   "cell_type": "markdown",
   "id": "partial-export",
   "metadata": {},
   "source": [
    "It's possible to observe that there are a lot of app variety: e-readers, bibles, dictionaries, guides, programming tutorials and so on. No counting with Wattpad, Amazon Kindle, Google Play Books, Bible and Audiobooks from Audible (over 100,000,000+ downloads) this market is dominated by programming books, dictionaries and bibles.\n",
    "\n",
    "We can suggest the same as on the Apple Store analysis. We can try to find a famous book and turn into an app with some features or try to build a tutorial programming app for a new emergent programming language. But since we have a bunch of offers in the market, it will be a little hard to find our spot."
   ]
  },
  {
   "cell_type": "markdown",
   "id": "forced-broadcasting",
   "metadata": {},
   "source": [
    "## 4. Conclusions"
   ]
  },
  {
   "cell_type": "markdown",
   "id": "remarkable-pressing",
   "metadata": {},
   "source": [
    "In this project we analyzed the datasets of Apple Store and Google Play from Kaggle website with the objective to find a app profile that can be profitable for both markets.\n",
    "\n",
    "We see that the categories with more downloads are dominated by big tech companies, which it will be hard to compete against them. However we could suggest to pick a famous book and transform into a app but with some features, like have more than one language within the app."
   ]
  },
  {
   "cell_type": "code",
   "execution_count": null,
   "id": "prime-beaver",
   "metadata": {},
   "outputs": [],
   "source": []
  }
 ],
 "metadata": {
  "kernelspec": {
   "display_name": "Python 3",
   "language": "python",
   "name": "python3"
  },
  "language_info": {
   "codemirror_mode": {
    "name": "ipython",
    "version": 3
   },
   "file_extension": ".py",
   "mimetype": "text/x-python",
   "name": "python",
   "nbconvert_exporter": "python",
   "pygments_lexer": "ipython3",
   "version": "3.8.3"
  }
 },
 "nbformat": 4,
 "nbformat_minor": 5
}
