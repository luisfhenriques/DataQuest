{
 "cells": [
  {
   "cell_type": "markdown",
   "id": "adolescent-warning",
   "metadata": {},
   "source": [
    "# Exploring Hacker News Posts"
   ]
  },
  {
   "cell_type": "markdown",
   "id": "monetary-proposal",
   "metadata": {},
   "source": [
    "Hacker News is a site started by the startup incubator [Y Combinator](https://www.ycombinator.com/), where user-submitted stories (known as \"posts\") are voted and commented upon, similar to reddit. Hacker News is extremely popular in technology and startup circles, and posts that make it to the top of Hacker News' listings can get hundreds of thousands of visitors as a result."
   ]
  },
  {
   "cell_type": "markdown",
   "id": "tough-charger",
   "metadata": {},
   "source": [
    "## 1. Collect and Explore the Data"
   ]
  },
  {
   "cell_type": "markdown",
   "id": "hired-pavilion",
   "metadata": {},
   "source": [
    "First, we will collect the dataset from [here](https://www.kaggle.com/hacker-news/hacker-news-posts).\n",
    "\n",
    "According to the description that we can find in our source, the dataset (Hacker News Posts) has 12 months of data, up to September 26 2016. "
   ]
  },
  {
   "cell_type": "code",
   "execution_count": 1,
   "id": "incoming-count",
   "metadata": {},
   "outputs": [
    {
     "name": "stdout",
     "output_type": "stream",
     "text": [
      "Number of columns:  7\n",
      "Number of rows:  293119\n"
     ]
    }
   ],
   "source": [
    "from csv import reader\n",
    "\n",
    "# Hacker News Posts dataset\n",
    "file = 'HN_posts_year_to_Sep_26_2016.csv'\n",
    "opened_file = open(file, encoding='utf8')\n",
    "read_file = reader(opened_file)\n",
    "hn_data = list(read_file) # Transform our data from a reader object to a list of lists\n",
    "hn_header = hn_data[0]\n",
    "hn_data = hn_data[1:]\n",
    "\n",
    "print(\"Number of columns: \",len(hn_header))\n",
    "print('Number of rows: ',len(hn_data))\n"
   ]
  },
  {
   "cell_type": "markdown",
   "id": "infinite-needle",
   "metadata": {},
   "source": [
    "Our dataset has a total of 7 columns and 293119 rows. Below we can find the respective information regarding the columns:\n",
    "\n",
    "- `id` : The unique identifier from Hacker News for the post\n",
    "- `title` : The title of the post\n",
    "- `url` : The URL that the posts links to, if it the post has a URL\n",
    "- `num_points` : The number of points the post acquired, calculated as the total number of upvotes minus the total number of downvotes\n",
    "- `num_comments` : The number of comments that were made on the post\n",
    "- `author` : The username of the person who submitted the post\n",
    "- `created_at` : The date and time at which the post was submitted"
   ]
  },
  {
   "cell_type": "markdown",
   "id": "driven-appendix",
   "metadata": {},
   "source": [
    "Next, we will create a function to return the data of a given subset of our dataset and then display the first 5 rows of our dataset."
   ]
  },
  {
   "cell_type": "code",
   "execution_count": 2,
   "id": "popular-commodity",
   "metadata": {},
   "outputs": [
    {
     "name": "stdout",
     "output_type": "stream",
     "text": [
      "['id', 'title', 'url', 'num_points', 'num_comments', 'author', 'created_at']\n",
      "['12579008', 'You have two days to comment if you want stem cells to be classified as your own', 'http://www.regulations.gov/document?D=FDA-2015-D-3719-0018', '1', '0', 'altstar', '9/26/2016 3:26']\n",
      "\n",
      "\n",
      "['12579005', 'SQLAR  the SQLite Archiver', 'https://www.sqlite.org/sqlar/doc/trunk/README.md', '1', '0', 'blacksqr', '9/26/2016 3:24']\n",
      "\n",
      "\n",
      "['12578997', 'What if we just printed a flatscreen television on the side of our boxes?', 'https://medium.com/vanmoof/our-secrets-out-f21c1f03fdc8#.ietxmez43', '1', '0', 'pavel_lishin', '9/26/2016 3:19']\n",
      "\n",
      "\n",
      "['12578989', 'algorithmic music', 'http://cacm.acm.org/magazines/2011/7/109891-algorithmic-composition/fulltext', '1', '0', 'poindontcare', '9/26/2016 3:16']\n",
      "\n",
      "\n",
      "['12578979', 'How the Data Vault Enables the Next-Gen Data Warehouse and Data Lake', 'https://www.talend.com/blog/2016/05/12/talend-and-Â\\x93the-data-vaultÂ\\x94', '1', '0', 'markgainor1', '9/26/2016 3:14']\n",
      "\n",
      "\n"
     ]
    }
   ],
   "source": [
    "def explore_data(dataset: list, start: int, end: int):\n",
    "    data = dataset[start:end]\n",
    "    for row in data:\n",
    "        print(row)\n",
    "        print('\\n')\n",
    "\n",
    "print(hn_header)\n",
    "explore_data(hn_data,0,5) # Display first 5 rows"
   ]
  },
  {
   "cell_type": "markdown",
   "id": "searching-bobby",
   "metadata": {},
   "source": [
    "## 2. Filtering by `Ask HN` or `Show HN`"
   ]
  },
  {
   "cell_type": "markdown",
   "id": "colored-ceramic",
   "metadata": {},
   "source": [
    "We're specifically interested in posts whose titles begin with either `Ask HN` or `Show HN`. Users submit `Ask HN` posts to ask the Hacker News community a specific question. Likewise, users submit `Show HN` posts to show the Hacker News community a project, product, or just generally something interesting."
   ]
  },
  {
   "cell_type": "code",
   "execution_count": 3,
   "id": "resistant-microwave",
   "metadata": {},
   "outputs": [],
   "source": [
    "ask_posts = [] # list only for Ask HN posts\n",
    "show_posts = [] # list only for Show HN posts\n",
    "other_posts = [] # list for other posts\n",
    "\n",
    "for post in hn_data:\n",
    "    title = post[1]\n",
    "    title = title.lower()\n",
    "    if title.startswith('ask hn'):\n",
    "        ask_posts.append(post)\n",
    "    elif title.startswith('show hn'):\n",
    "        show_posts.append(post)\n",
    "    else:\n",
    "        other_posts.append(other_posts)\n"
   ]
  },
  {
   "cell_type": "markdown",
   "id": "polyphonic-scout",
   "metadata": {},
   "source": [
    "Let's check the number of post on each list created before."
   ]
  },
  {
   "cell_type": "code",
   "execution_count": 4,
   "id": "mental-pacific",
   "metadata": {},
   "outputs": [
    {
     "name": "stdout",
     "output_type": "stream",
     "text": [
      "Total of Ask HN posts:  9139\n",
      "Total of Show HN posts:  10158\n",
      "Total of remaing posts:  273822\n"
     ]
    }
   ],
   "source": [
    "print('Total of Ask HN posts: ',len(ask_posts))\n",
    "print('Total of Show HN posts: ',len(show_posts))\n",
    "print('Total of remaing posts: ',len(other_posts))"
   ]
  },
  {
   "cell_type": "code",
   "execution_count": 5,
   "id": "opening-showcase",
   "metadata": {},
   "outputs": [
    {
     "name": "stdout",
     "output_type": "stream",
     "text": [
      "----------------------ASK POSTS----------------------\n",
      "['12578908', 'Ask HN: What TLD do you use for local development?', '', '4', '7', 'Sevrene', '9/26/2016 2:53']\n",
      "\n",
      "\n",
      "['12578522', 'Ask HN: How do you pass on your work when you die?', '', '6', '3', 'PascLeRasc', '9/26/2016 1:17']\n",
      "\n",
      "\n",
      "['12577908', 'Ask HN: How a DNS problem can be limited to a geographic region?', '', '1', '0', 'kuon', '9/25/2016 22:57']\n",
      "\n",
      "\n",
      "['12577870', 'Ask HN: Why join a fund when you can be an angel?', '', '1', '3', 'anthony_james', '9/25/2016 22:48']\n",
      "\n",
      "\n",
      "['12577647', 'Ask HN: Someone uses stock trading as passive income?', '', '5', '2', '00taffe', '9/25/2016 21:50']\n",
      "\n",
      "\n",
      "\n",
      "\n",
      "----------------------SHOW POSTS----------------------\n",
      "['12578335', 'Show HN: Finding puns computationally', 'http://puns.samueltaylor.org/', '2', '0', 'saamm', '9/26/2016 0:36']\n",
      "\n",
      "\n",
      "['12578182', 'Show HN: A simple library for complicated animations', 'https://christinecha.github.io/choreographer-js/', '1', '0', 'christinecha', '9/26/2016 0:01']\n",
      "\n",
      "\n",
      "['12578098', 'Show HN: WebGL visualization of DNA sequences', 'http://grondilu.github.io/dna.html', '1', '0', 'grondilu', '9/25/2016 23:44']\n",
      "\n",
      "\n",
      "['12577991', 'Show HN: Pomodoro-centric, heirarchical project management with ES6 modules', 'https://github.com/jakebian/zeal', '2', '0', 'dbranes', '9/25/2016 23:17']\n",
      "\n",
      "\n",
      "['12577142', 'Show HN: Jumble  Essays on the go #PaulInYourPocket', 'https://itunes.apple.com/us/app/jumble-find-startup-essay/id1150939197?ls=1&mt=8', '1', '1', 'ryderj', '9/25/2016 20:06']\n",
      "\n",
      "\n"
     ]
    }
   ],
   "source": [
    "print('----------------------ASK POSTS----------------------')\n",
    "explore_data(ask_posts,0,5)\n",
    "print('\\n')\n",
    "print('----------------------SHOW POSTS----------------------')\n",
    "explore_data(show_posts,0,5)"
   ]
  },
  {
   "cell_type": "markdown",
   "id": "first-floating",
   "metadata": {},
   "source": [
    "## 3. Analyzing Filtered datasets"
   ]
  },
  {
   "cell_type": "markdown",
   "id": "overhead-quality",
   "metadata": {},
   "source": [
    "### 3.1 Posts with more comments on average"
   ]
  },
  {
   "cell_type": "markdown",
   "id": "funny-qatar",
   "metadata": {},
   "source": [
    "Next, we will determine which kind of posts have more comments on average, Ask or Show posts."
   ]
  },
  {
   "cell_type": "code",
   "execution_count": 6,
   "id": "referenced-singapore",
   "metadata": {},
   "outputs": [],
   "source": [
    "def calculate_avg_post(dataset: list, post_type: str):\n",
    "    total_comments = 0\n",
    "    for post in dataset:\n",
    "        num_comments = int(post[4])\n",
    "        total_comments += num_comments\n",
    "    \n",
    "    avg_comments = total_comments/len(dataset)\n",
    "    print(\"The average number of comments in {} posts is: {}\".format(post_type,round(avg_comments,2)))"
   ]
  },
  {
   "cell_type": "code",
   "execution_count": 7,
   "id": "laden-television",
   "metadata": {},
   "outputs": [
    {
     "name": "stdout",
     "output_type": "stream",
     "text": [
      "The average number of comments in Ask posts is: 10.39\n",
      "The average number of comments in Show posts is: 4.89\n"
     ]
    }
   ],
   "source": [
    "calculate_avg_post(ask_posts, \"Ask\")\n",
    "calculate_avg_post(show_posts, \"Show\")"
   ]
  },
  {
   "cell_type": "markdown",
   "id": "alleged-testing",
   "metadata": {},
   "source": [
    "We can see below that we have more, on average, number of comments in Ask posts than Show Posts. This can be totally normal because people tend to comment more if you ask something compared to if you present a subject to everybody. This happens because everyone has a different opinion 😊."
   ]
  },
  {
   "cell_type": "markdown",
   "id": "pressing-providence",
   "metadata": {},
   "source": [
    "### 3.2 Determine the amount of Ask comments per hour"
   ]
  },
  {
   "cell_type": "markdown",
   "id": "unknown-bible",
   "metadata": {},
   "source": [
    "Next, we'll determine if ask posts created at a certain time are more likely to attract comments. We'll use the following steps to perform this analysis:\n",
    "- Calculate the amount of ask posts created in each hour of the day, along with the number of comments received.\n",
    "- Calculate the average number of comments ask posts receive by hour created.\n"
   ]
  },
  {
   "cell_type": "code",
   "execution_count": 43,
   "id": "unnecessary-christianity",
   "metadata": {},
   "outputs": [],
   "source": [
    "import datetime as dt\n",
    "\n",
    "\n",
    "result_list = []\n",
    "\n",
    "for post in ask_posts:\n",
    "    created_date = post[6]\n",
    "    num_comments = int(post[4])\n",
    "    result_list.append([created_date,num_comments])\n",
    "\n",
    "counts_by_hour = {} # contains the number of ask posts created during each hour of the day. \n",
    "comments_by_hour = {} # contains the corresponding number of comments ask posts created at each hour received\n",
    "\n",
    "for post in result_list:\n",
    "    date_hour = post[0]\n",
    "    num_comments = int(post[1])\n",
    "    hour = dt.datetime.strptime(date_hour,'%m/%d/%Y %H:%M')\n",
    "    hour = dt.datetime.strftime(hour,'%H')\n",
    "    if hour not in counts_by_hour:\n",
    "        counts_by_hour[hour] = 1\n",
    "        comments_by_hour[hour] = num_comments\n",
    "    else:\n",
    "        counts_by_hour[hour] += 1\n",
    "        comments_by_hour[hour] += num_comments"
   ]
  },
  {
   "cell_type": "code",
   "execution_count": 44,
   "id": "durable-belly",
   "metadata": {},
   "outputs": [
    {
     "data": {
      "text/plain": [
       "{'02': 269,\n",
       " '01': 282,\n",
       " '22': 383,\n",
       " '21': 518,\n",
       " '19': 552,\n",
       " '17': 587,\n",
       " '15': 646,\n",
       " '14': 513,\n",
       " '13': 444,\n",
       " '11': 312,\n",
       " '10': 282,\n",
       " '09': 222,\n",
       " '07': 226,\n",
       " '03': 271,\n",
       " '23': 343,\n",
       " '20': 510,\n",
       " '16': 579,\n",
       " '08': 257,\n",
       " '00': 301,\n",
       " '18': 614,\n",
       " '12': 342,\n",
       " '04': 243,\n",
       " '06': 234,\n",
       " '05': 209}"
      ]
     },
     "execution_count": 44,
     "metadata": {},
     "output_type": "execute_result"
    }
   ],
   "source": [
    "counts_by_hour"
   ]
  },
  {
   "cell_type": "code",
   "execution_count": 47,
   "id": "valid-people",
   "metadata": {},
   "outputs": [
    {
     "data": {
      "text/plain": [
       "{'02': 2996,\n",
       " '01': 2089,\n",
       " '22': 3372,\n",
       " '21': 4500,\n",
       " '19': 3954,\n",
       " '17': 5547,\n",
       " '15': 18525,\n",
       " '14': 4972,\n",
       " '13': 7245,\n",
       " '11': 2797,\n",
       " '10': 3013,\n",
       " '09': 1477,\n",
       " '07': 1585,\n",
       " '03': 2154,\n",
       " '23': 2297,\n",
       " '20': 4462,\n",
       " '16': 4466,\n",
       " '08': 2362,\n",
       " '00': 2277,\n",
       " '18': 4877,\n",
       " '12': 4234,\n",
       " '04': 2360,\n",
       " '06': 1587,\n",
       " '05': 1838}"
      ]
     },
     "execution_count": 47,
     "metadata": {},
     "output_type": "execute_result"
    }
   ],
   "source": [
    "comments_by_hour"
   ]
  },
  {
   "cell_type": "markdown",
   "id": "reverse-collapse",
   "metadata": {},
   "source": [
    "### 3.3 Hours with more comments on average"
   ]
  },
  {
   "cell_type": "markdown",
   "id": "universal-public",
   "metadata": {},
   "source": [
    "Next, we will calculate the average number of comments per post for posts created during each hour of the day.\n",
    "\n",
    "comments by hour / counts by hour"
   ]
  },
  {
   "cell_type": "code",
   "execution_count": 15,
   "id": "ranging-coupon",
   "metadata": {},
   "outputs": [
    {
     "data": {
      "text/plain": [
       "[['00', 7.56],\n",
       " ['01', 7.41],\n",
       " ['02', 11.14],\n",
       " ['03', 7.95],\n",
       " ['04', 9.71],\n",
       " ['05', 8.79],\n",
       " ['06', 6.78],\n",
       " ['07', 7.01],\n",
       " ['08', 9.19],\n",
       " ['09', 6.65],\n",
       " ['10', 10.68],\n",
       " ['11', 8.96],\n",
       " ['12', 12.38],\n",
       " ['13', 16.32],\n",
       " ['14', 9.69],\n",
       " ['15', 28.68],\n",
       " ['16', 7.71],\n",
       " ['17', 9.45],\n",
       " ['18', 7.94],\n",
       " ['19', 7.16],\n",
       " ['20', 8.75],\n",
       " ['21', 8.69],\n",
       " ['22', 8.8],\n",
       " ['23', 6.7]]"
      ]
     },
     "execution_count": 15,
     "metadata": {},
     "output_type": "execute_result"
    }
   ],
   "source": [
    "avg_by_hour = []\n",
    "\n",
    "for post in comments_by_hour:\n",
    "    avg = round(comments_by_hour[post]/counts_by_hour[post],2)\n",
    "    avg_by_hour.append([post,avg])\n",
    "\n",
    "avg_by_hour.sort()\n",
    "avg_by_hour"
   ]
  },
  {
   "cell_type": "markdown",
   "id": "practical-aspect",
   "metadata": {},
   "source": [
    "Let's check what are the top 5 hours with more comments on average."
   ]
  },
  {
   "cell_type": "code",
   "execution_count": 28,
   "id": "pleasant-glossary",
   "metadata": {},
   "outputs": [],
   "source": [
    "swap_avg_by_hour = []\n",
    "for hour in avg_by_hour:\n",
    "    swap_avg_by_hour.append([hour[1],hour[0]])\n",
    "\n",
    "sorted_swap = sorted(swap_avg_by_hour, reverse = True)"
   ]
  },
  {
   "cell_type": "code",
   "execution_count": 42,
   "id": "presidential-provider",
   "metadata": {},
   "outputs": [
    {
     "name": "stdout",
     "output_type": "stream",
     "text": [
      "---------------Top 5 Hours for Ask Posts Comments---------------\n",
      "15:00: 28.68 average comments per post.\n",
      "13:00: 16.32 average comments per post.\n",
      "12:00: 12.38 average comments per post.\n",
      "02:00: 11.14 average comments per post.\n",
      "10:00: 10.68 average comments per post.\n"
     ]
    }
   ],
   "source": [
    "# Sort values and print the top 5 hours the highest average comments.\n",
    "print(\"---------------Top 5 Hours for Ask Posts Comments---------------\")\n",
    "for post in sorted_swap[:5]:\n",
    "    hour = dt.datetime.strptime(str(post[1])+\":00\",\"%H:%M\")\n",
    "    hour = dt.datetime.strftime(hour,\"%H:%M\")\n",
    "    print(\"{}: {} average comments per post.\".format(hour,post[0]))\n",
    "    \n",
    "    "
   ]
  },
  {
   "cell_type": "markdown",
   "id": "adjustable-morning",
   "metadata": {},
   "source": [
    "The hour that receives the most comments on average per post is 15:00. It has 28.68 on average comments per post. We can observe that the top 3 hours with more comments are during and after lunch time."
   ]
  },
  {
   "cell_type": "markdown",
   "id": "visible-papua",
   "metadata": {},
   "source": [
    "## 4.Conclusion"
   ]
  },
  {
   "cell_type": "markdown",
   "id": "functioning-calcium",
   "metadata": {},
   "source": [
    "In this project, we analyzed ask posts and show posts from [Hacker News Post](https://news.ycombinator.com/) to determine which type of post and time receive the most comments on average.\n",
    "We verified that we have more Show posts (10158) than Ask posts (9139) in the dataset. We decided only to analize the Ask posts because it has more comments per post in average, 10.39 compared to the 4.89 posts from Show posts.  \n",
    "\n",
    "Based on our study, to get the most comments in an ask post, the post should be created & post during the period between 15h-16h (3pm-4pm). The time period that has less comments on asks comments is between 8pm to 7am.\n",
    "\n"
   ]
  }
 ],
 "metadata": {
  "kernelspec": {
   "display_name": "Python 3",
   "language": "python",
   "name": "python3"
  },
  "language_info": {
   "codemirror_mode": {
    "name": "ipython",
    "version": 3
   },
   "file_extension": ".py",
   "mimetype": "text/x-python",
   "name": "python",
   "nbconvert_exporter": "python",
   "pygments_lexer": "ipython3",
   "version": "3.8.3"
  }
 },
 "nbformat": 4,
 "nbformat_minor": 5
}
